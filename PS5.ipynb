{
 "cells": [
  {
   "cell_type": "code",
   "execution_count": null,
   "id": "c5f6b9bf-7ce2-4ca1-b641-2f3eeb1ce688",
   "metadata": {},
   "outputs": [],
   "source": [
    "import numpy as np\n",
    "import matplotlib.pyplot as plt\n",
    "\n",
    "# Parameters\n",
    "F_in = 6.0  # Input flux (GtC/year)\n",
    "F_out = 2.0  # Output flux (GtC/year)\n",
    "C_a_0 = 350.0  # Initial CO2 concentration in atmosphere (ppm)\n",
    "C_l_0 = 300.0  # Initial CO2 concentration in land/ocean (ppm)\n",
    "k = 0.1  # Buffer effect constant\n",
    "dt = 1.0  # Time step (year)\n",
    "years = np.arange(1987, 2005)  # Time range\n",
    "\n",
    "# Initialize arrays to store results\n",
    "C_a_no_buffer = np.zeros(len(years))\n",
    "C_l_no_buffer = np.zeros(len(years))\n",
    "C_a_with_buffer = np.zeros(len(years))\n",
    "C_l_with_buffer = np.zeros(len(years))\n",
    "\n",
    "C_a_no_buffer[0] = C_a_0\n",
    "C_l_no_buffer[0] = C_l_0\n",
    "C_a_with_buffer[0] = C_a_0\n",
    "C_l_with_buffer[0] = C_l_0\n",
    "\n",
    "# Euler's method for no buffer effect\n",
    "for i in range(1, len(years)):\n",
    "    dC_a_dt = F_in - F_out\n",
    "    dC_l_dt = F_out\n",
    "    C_a_no_buffer[i] = C_a_no_buffer[i-1] + dC_a_dt * dt\n",
    "    C_l_no_buffer[i] = C_l_no_buffer[i-1] + dC_l_dt * dt\n",
    "\n",
    "# Euler's method for with buffer effect\n",
    "for i in range(1, len(years)):\n",
    "    dC_a_dt = F_in - F_out + k * (C_a_with_buffer[i-1] - C_l_with_buffer[i-1])\n",
    "    dC_l_dt = F_out - k * (C_a_with_buffer[i-1] - C_l_with_buffer[i-1])\n",
    "    C_a_with_buffer[i] = C_a_with_buffer[i-1] + dC_a_dt * dt\n",
    "    C_l_with_buffer[i] = C_l_with_buffer[i-1] + dC_l_dt * dt\n",
    "\n",
    "# Plot results\n",
    "plt.figure(figsize=(10, 5))\n",
    "plt.plot(years, C_a_no_buffer, label='Atmospheric CO2 (no buffer)')\n",
    "plt.plot(years, C_a_with_buffer, label='Atmospheric CO2 (with buffer)')\n",
    "plt.xlabel('Year')\n",
    "plt.ylabel('CO2 Concentration (ppm)')\n",
    "plt.title('Two-Box Model of Atmospheric CO2 Levels')\n",
    "plt.legend()\n",
    "plt.grid(True)\n",
    "plt.show()\n",
    "\n",
    "# Save the results for further analysis\n",
    "np.savez('co2_levels.npz', years=years, C_a_no_buffer=C_a_no_buffer, C_a_with_buffer=C_a_with_buffer)"
   ]
  }
 ],
 "metadata": {
  "kernelspec": {
   "display_name": "Python 3 (ipykernel)",
   "language": "python",
   "name": "python3"
  },
  "language_info": {
   "codemirror_mode": {
    "name": "ipython",
    "version": 3
   },
   "file_extension": ".py",
   "mimetype": "text/x-python",
   "name": "python",
   "nbconvert_exporter": "python",
   "pygments_lexer": "ipython3",
   "version": "3.12.3"
  }
 },
 "nbformat": 4,
 "nbformat_minor": 5
}
